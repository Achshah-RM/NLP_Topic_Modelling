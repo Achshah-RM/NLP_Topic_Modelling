{
 "cells": [
  {
   "cell_type": "markdown",
   "id": "01b9d48e-cd4f-401c-9636-feb53a84fc12",
   "metadata": {},
   "source": [
    "# Task 1: Use NLP Techniques to Analyze a Collection of Texts\n",
    "## Objective:\n",
    "The goal of this project is to analyze a large collection of consumer complaints using unsupervised natural language processing (NLP) techniques. By applying advanced topic modeling algorithms, this project aims to uncover prevalent themes and latent topics within the data. These insights can provide valuable support to policymakers and organizations in addressing critical consumer issues, enhancing decision-making, and improving service quality.\n",
    "## Problem Statement:\n",
    "Consumer complaint data, such as the dataset from the Consumer Financial Protection Bureau (CFPB), is inherently unstructured and noisy. These complaints often contain irregular formatting, varied language usage, and redundant information, making direct systematic analysis challenging. The volume of data further complicates identifying the most pressing concerns. Traditional manual approaches are insufficient to extract meaningful patterns from such data.\n",
    "Topic modeling offers an effective solution to these challenges by uncovering latent structures and organizing the complaints into coherent themes. This project leverages algorithms like Latent Dirichlet Allocation (LDA), Non-Negative Matrix Factorization (NMF), and BERTopic to identify key topics, enabling a systematic understanding of consumer grievances and supporting data-driven decisions."
   ]
  },
  {
   "cell_type": "markdown",
   "id": "b7035fd5-1cf0-4eb6-b8d5-cfd5e40b05c2",
   "metadata": {},
   "source": [
    "# Import Necessary Libraries"
   ]
  },
  {
   "cell_type": "code",
   "execution_count": 1,
   "id": "d10273ba-6557-4b7d-8097-e8e7cd612d02",
   "metadata": {},
   "outputs": [],
   "source": [
    "# Preprocessing\n",
    "import pandas as pd\n",
    "import numpy as np\n",
    "import spacy\n",
    "import nltk\n",
    "from nltk.corpus import stopwords\n",
    "from nltk.tokenize import word_tokenize\n",
    "import re\n",
    "\n",
    "# Parallel Processing\n",
    "import swifter\n",
    "\n",
    "# Modeling\n",
    "from gensim.models.ldamodel import LdaModel\n",
    "from sklearn.decomposition import LatentDirichletAllocation, NMF\n",
    "from bertopic import BERTopic\n",
    "\n",
    "# Evaluation and Visualization\n",
    "import pyLDAvis\n",
    "import pyLDAvis.gensim_models as gensimvis\n",
    "import matplotlib.pyplot as plt\n",
    "import seaborn as sns\n",
    "from wordcloud import WordCloud\n",
    "\n",
    "# Ignore Warnings\n",
    "import warnings\n",
    "warnings.filterwarnings(\"ignore\")"
   ]
  },
  {
   "cell_type": "markdown",
   "id": "c2af4402-0f48-400a-a97a-f5e5a88b0ac9",
   "metadata": {},
   "source": [
    "# Data Preprocessing"
   ]
  },
  {
   "cell_type": "markdown",
   "id": "6d2b0d9c-b0d2-426c-830a-1ee4b910678c",
   "metadata": {},
   "source": [
    "## Load Data"
   ]
  },
  {
   "cell_type": "code",
   "execution_count": 2,
   "id": "fe0c4bda-f685-44be-8e8f-f53fa3753061",
   "metadata": {},
   "outputs": [],
   "source": [
    "# Define the file path\n",
    "file_path = \"/Users/achshahrm/Library/Mobile Documents/com~apple~CloudDocs/Documents/IU International/Sem 05/Project Data Analysis/project/data/complaints.csv\"\n",
    "\n",
    "# Load the data into a DataFrame\n",
    "data = pd.read_csv(file_path)"
   ]
  },
  {
   "cell_type": "markdown",
   "id": "61d406c0-b551-46d6-8198-03b204ae3050",
   "metadata": {},
   "source": [
    "## Inspect Data"
   ]
  },
  {
   "cell_type": "markdown",
   "id": "e0e5b743-828b-47ba-86fb-1f65e82b5763",
   "metadata": {},
   "source": [
    "### Basic Overview"
   ]
  },
  {
   "cell_type": "code",
   "execution_count": 3,
   "id": "805de51f-d48d-480a-b652-36d55198032d",
   "metadata": {},
   "outputs": [
    {
     "data": {
      "text/html": [
       "<div>\n",
       "<style scoped>\n",
       "    .dataframe tbody tr th:only-of-type {\n",
       "        vertical-align: middle;\n",
       "    }\n",
       "\n",
       "    .dataframe tbody tr th {\n",
       "        vertical-align: top;\n",
       "    }\n",
       "\n",
       "    .dataframe thead th {\n",
       "        text-align: right;\n",
       "    }\n",
       "</style>\n",
       "<table border=\"1\" class=\"dataframe\">\n",
       "  <thead>\n",
       "    <tr style=\"text-align: right;\">\n",
       "      <th></th>\n",
       "      <th>Unnamed: 0</th>\n",
       "      <th>product</th>\n",
       "      <th>narrative</th>\n",
       "    </tr>\n",
       "  </thead>\n",
       "  <tbody>\n",
       "    <tr>\n",
       "      <th>0</th>\n",
       "      <td>0</td>\n",
       "      <td>credit_card</td>\n",
       "      <td>purchase order day shipping amount receive pro...</td>\n",
       "    </tr>\n",
       "    <tr>\n",
       "      <th>1</th>\n",
       "      <td>1</td>\n",
       "      <td>credit_card</td>\n",
       "      <td>forwarded message date tue subject please inve...</td>\n",
       "    </tr>\n",
       "    <tr>\n",
       "      <th>2</th>\n",
       "      <td>2</td>\n",
       "      <td>retail_banking</td>\n",
       "      <td>forwarded message cc sent friday pdt subject f...</td>\n",
       "    </tr>\n",
       "    <tr>\n",
       "      <th>3</th>\n",
       "      <td>3</td>\n",
       "      <td>credit_reporting</td>\n",
       "      <td>payment history missing credit report speciali...</td>\n",
       "    </tr>\n",
       "    <tr>\n",
       "      <th>4</th>\n",
       "      <td>4</td>\n",
       "      <td>credit_reporting</td>\n",
       "      <td>payment history missing credit report made mis...</td>\n",
       "    </tr>\n",
       "    <tr>\n",
       "      <th>5</th>\n",
       "      <td>5</td>\n",
       "      <td>credit_reporting</td>\n",
       "      <td>payment history missing credit report made mis...</td>\n",
       "    </tr>\n",
       "    <tr>\n",
       "      <th>6</th>\n",
       "      <td>6</td>\n",
       "      <td>credit_reporting</td>\n",
       "      <td>va date complaint experian credit bureau invol...</td>\n",
       "    </tr>\n",
       "    <tr>\n",
       "      <th>7</th>\n",
       "      <td>7</td>\n",
       "      <td>credit_reporting</td>\n",
       "      <td>account reported abbreviated name full name se...</td>\n",
       "    </tr>\n",
       "    <tr>\n",
       "      <th>8</th>\n",
       "      <td>8</td>\n",
       "      <td>credit_reporting</td>\n",
       "      <td>account reported abbreviated name full name se...</td>\n",
       "    </tr>\n",
       "    <tr>\n",
       "      <th>9</th>\n",
       "      <td>9</td>\n",
       "      <td>credit_reporting</td>\n",
       "      <td>usdoexxxx account reported abbreviated name fu...</td>\n",
       "    </tr>\n",
       "  </tbody>\n",
       "</table>\n",
       "</div>"
      ],
      "text/plain": [
       "   Unnamed: 0           product  \\\n",
       "0           0       credit_card   \n",
       "1           1       credit_card   \n",
       "2           2    retail_banking   \n",
       "3           3  credit_reporting   \n",
       "4           4  credit_reporting   \n",
       "5           5  credit_reporting   \n",
       "6           6  credit_reporting   \n",
       "7           7  credit_reporting   \n",
       "8           8  credit_reporting   \n",
       "9           9  credit_reporting   \n",
       "\n",
       "                                           narrative  \n",
       "0  purchase order day shipping amount receive pro...  \n",
       "1  forwarded message date tue subject please inve...  \n",
       "2  forwarded message cc sent friday pdt subject f...  \n",
       "3  payment history missing credit report speciali...  \n",
       "4  payment history missing credit report made mis...  \n",
       "5  payment history missing credit report made mis...  \n",
       "6  va date complaint experian credit bureau invol...  \n",
       "7  account reported abbreviated name full name se...  \n",
       "8  account reported abbreviated name full name se...  \n",
       "9  usdoexxxx account reported abbreviated name fu...  "
      ]
     },
     "execution_count": 3,
     "metadata": {},
     "output_type": "execute_result"
    }
   ],
   "source": [
    "# Display the first few rows of the DataFrame\n",
    "data.head(10)"
   ]
  },
  {
   "cell_type": "code",
   "execution_count": 4,
   "id": "60e7615d-c3fd-4e55-a03d-c2d143919737",
   "metadata": {},
   "outputs": [
    {
     "data": {
      "text/html": [
       "<div>\n",
       "<style scoped>\n",
       "    .dataframe tbody tr th:only-of-type {\n",
       "        vertical-align: middle;\n",
       "    }\n",
       "\n",
       "    .dataframe tbody tr th {\n",
       "        vertical-align: top;\n",
       "    }\n",
       "\n",
       "    .dataframe thead th {\n",
       "        text-align: right;\n",
       "    }\n",
       "</style>\n",
       "<table border=\"1\" class=\"dataframe\">\n",
       "  <thead>\n",
       "    <tr style=\"text-align: right;\">\n",
       "      <th></th>\n",
       "      <th>Unnamed: 0</th>\n",
       "      <th>product</th>\n",
       "      <th>narrative</th>\n",
       "    </tr>\n",
       "  </thead>\n",
       "  <tbody>\n",
       "    <tr>\n",
       "      <th>162411</th>\n",
       "      <td>162411</td>\n",
       "      <td>retail_banking</td>\n",
       "      <td>zelle suspended account without cause banking ...</td>\n",
       "    </tr>\n",
       "    <tr>\n",
       "      <th>162412</th>\n",
       "      <td>162412</td>\n",
       "      <td>debt_collection</td>\n",
       "      <td>zero contact made debt supposedly resolved fou...</td>\n",
       "    </tr>\n",
       "    <tr>\n",
       "      <th>162413</th>\n",
       "      <td>162413</td>\n",
       "      <td>mortgages_and_loans</td>\n",
       "      <td>zillow home loan nmls nmls actual quote provid...</td>\n",
       "    </tr>\n",
       "    <tr>\n",
       "      <th>162414</th>\n",
       "      <td>162414</td>\n",
       "      <td>debt_collection</td>\n",
       "      <td>zuntafi sent notice willing settle defaulted s...</td>\n",
       "    </tr>\n",
       "    <tr>\n",
       "      <th>162415</th>\n",
       "      <td>162415</td>\n",
       "      <td>debt_collection</td>\n",
       "      <td>name</td>\n",
       "    </tr>\n",
       "    <tr>\n",
       "      <th>162416</th>\n",
       "      <td>162416</td>\n",
       "      <td>debt_collection</td>\n",
       "      <td>name</td>\n",
       "    </tr>\n",
       "    <tr>\n",
       "      <th>162417</th>\n",
       "      <td>162417</td>\n",
       "      <td>credit_card</td>\n",
       "      <td>name</td>\n",
       "    </tr>\n",
       "    <tr>\n",
       "      <th>162418</th>\n",
       "      <td>162418</td>\n",
       "      <td>debt_collection</td>\n",
       "      <td>name</td>\n",
       "    </tr>\n",
       "    <tr>\n",
       "      <th>162419</th>\n",
       "      <td>162419</td>\n",
       "      <td>credit_card</td>\n",
       "      <td>name</td>\n",
       "    </tr>\n",
       "    <tr>\n",
       "      <th>162420</th>\n",
       "      <td>162420</td>\n",
       "      <td>credit_reporting</td>\n",
       "      <td>name</td>\n",
       "    </tr>\n",
       "  </tbody>\n",
       "</table>\n",
       "</div>"
      ],
      "text/plain": [
       "        Unnamed: 0              product  \\\n",
       "162411      162411       retail_banking   \n",
       "162412      162412      debt_collection   \n",
       "162413      162413  mortgages_and_loans   \n",
       "162414      162414      debt_collection   \n",
       "162415      162415      debt_collection   \n",
       "162416      162416      debt_collection   \n",
       "162417      162417          credit_card   \n",
       "162418      162418      debt_collection   \n",
       "162419      162419          credit_card   \n",
       "162420      162420     credit_reporting   \n",
       "\n",
       "                                                narrative  \n",
       "162411  zelle suspended account without cause banking ...  \n",
       "162412  zero contact made debt supposedly resolved fou...  \n",
       "162413  zillow home loan nmls nmls actual quote provid...  \n",
       "162414  zuntafi sent notice willing settle defaulted s...  \n",
       "162415                                               name  \n",
       "162416                                               name  \n",
       "162417                                               name  \n",
       "162418                                               name  \n",
       "162419                                               name  \n",
       "162420                                               name  "
      ]
     },
     "execution_count": 4,
     "metadata": {},
     "output_type": "execute_result"
    }
   ],
   "source": [
    "# Display the last few rows of the DataFrame\n",
    "data.tail(10)"
   ]
  },
  {
   "cell_type": "markdown",
   "id": "deb48f3d-01f7-4572-acfd-168239d800ac",
   "metadata": {},
   "source": [
    "### General Information"
   ]
  },
  {
   "cell_type": "code",
   "execution_count": 5,
   "id": "e459702f-6541-4ecf-b904-42bb97f49672",
   "metadata": {},
   "outputs": [
    {
     "name": "stdout",
     "output_type": "stream",
     "text": [
      "<class 'pandas.core.frame.DataFrame'>\n",
      "RangeIndex: 162421 entries, 0 to 162420\n",
      "Data columns (total 3 columns):\n",
      " #   Column      Non-Null Count   Dtype \n",
      "---  ------      --------------   ----- \n",
      " 0   Unnamed: 0  162421 non-null  int64 \n",
      " 1   product     162421 non-null  object\n",
      " 2   narrative   162411 non-null  object\n",
      "dtypes: int64(1), object(2)\n",
      "memory usage: 3.7+ MB\n"
     ]
    }
   ],
   "source": [
    "# Display general informations\n",
    "data.info()"
   ]
  },
  {
   "cell_type": "markdown",
   "id": "364faa1b-60e3-48c3-be4b-ae5f54462f26",
   "metadata": {},
   "source": [
    "### DataFrame Shape"
   ]
  },
  {
   "cell_type": "code",
   "execution_count": 6,
   "id": "7ef794a6-9b15-4f64-bdfe-913919356d0d",
   "metadata": {},
   "outputs": [
    {
     "name": "stdout",
     "output_type": "stream",
     "text": [
      "Shape of DataFrame: (162421, 3)\n"
     ]
    }
   ],
   "source": [
    "# Get the DataFrame Shape\n",
    "print(\"Shape of DataFrame:\", data.shape)"
   ]
  },
  {
   "cell_type": "markdown",
   "id": "8290907a-c386-4820-a73d-95b917cd9197",
   "metadata": {},
   "source": [
    "### Columns Names"
   ]
  },
  {
   "cell_type": "code",
   "execution_count": 7,
   "id": "c6419fa6-4713-4e84-8355-80d5c1c34964",
   "metadata": {},
   "outputs": [
    {
     "name": "stdout",
     "output_type": "stream",
     "text": [
      "Column Names: ['Unnamed: 0', 'product', 'narrative']\n"
     ]
    }
   ],
   "source": [
    "# List All Column Names\n",
    "print(\"Column Names:\", data.columns.tolist())"
   ]
  },
  {
   "cell_type": "markdown",
   "id": "fb290c3c-c894-4c0c-8f86-d3aee39826a6",
   "metadata": {},
   "source": [
    "### Value Counts"
   ]
  },
  {
   "cell_type": "code",
   "execution_count": 8,
   "id": "e3c42380-ef5e-4321-9cfd-13dff5276194",
   "metadata": {},
   "outputs": [
    {
     "name": "stdout",
     "output_type": "stream",
     "text": [
      "Unique Values:\n",
      " 124472\n"
     ]
    }
   ],
   "source": [
    "# Unique Values in a Column\n",
    "print(\"Unique Values:\\n\", data['narrative'].nunique())"
   ]
  },
  {
   "cell_type": "code",
   "execution_count": 9,
   "id": "f4dead47-2ae4-4f88-b3aa-913c05a183c0",
   "metadata": {
    "scrolled": true
   },
   "outputs": [
    {
     "name": "stdout",
     "output_type": "stream",
     "text": [
      "Value Counts:\n",
      " narrative\n",
      "victim identity notified collection creditor several time account belong way received good service company provided police report ftc id theft affidavit signed notarized along sworn statement regarding fraudulent account document submitted credit bureau                                                                                                                                                                                                                                                                                                                                                                                                                                                                                                                                                                                                                                                                                                                                                                                                                                                                                                                                                                                                                                                                                                                                                                                                                                                                                                                                                                                                                                                                                                                                                                                                                                                                                                                                                                                                                                                                                                                                                                                                                                                                                                                                                                                                                                                                                                                                                                                                                                                                                                                                                                                                                                                                                                                                                                                                                                                                                                                                                                                                                                                                                                                                                                                                                                                                                                                                                                                                                                                                                                                                                                                                                                                                                                                                                                                                                                                                                                                                                                                                                                                                                                                                                                                                                                                                                                                                                                                                                                                                                                                                                                                                                                                                                                                                                                                                                                                                                                                                                                                                                                                                                                                                                                                                                                                                                                                                                                                                                                                                                                       739\n",
      "account added created unbeknownst notice concern hold accountable accuse complicity exercise malevolent hereby mark likely one might one day view civil discord would plaintiff yet declare unjust claim met deliberate determined resistance counteraction clarity claim debt collection insufficient collection much le reporting must delete unjust injurious allegation significantly deficient requisite certified reporting compliance perfect metro format reporting testimonial evidence physically verifiable proof validation related full truth accuracy completeness timeliness ownership identity true debtor date balance audit calculation source code creditor collection code statement associated trailing fragment minimal five portioned personal identifier pay status required confirmation collection elsewise standard mandatory proper reporting mentioned although checking addressing missing deficient aspect reporting compliance contesting debt compliant nature make aware since unlawful reporting transition collection equally complaint circumstance still yet validated document fact compliance requisite standard announced yet legally knowledge validity alleged claim delinquency derogatory nature certifiably compliant matter either collection attempt reporting despite previous consumer filed composed complaint checking might known especially shall elect take matter civil court debt derogatory claim must pursued particularly collection defined precisely compliant physically verifiable certifiable manner detailed requisite obeyed federal state collection reporting regulation associated noted said claim include limited fcba fcra hipaa privacy rule facta fdcpa tcpa etc additionally entity act collector also elect act reporting party consumer credit must well adhere every single one even regulatory reporting requisite standard reporting legal standing full accordance law accepted reporting standard date plaintiff failed demonstrate capacity willingness validate alleged debt much le certify fair accurate complete compliant reporting claim particularly significantly deficient display certified metro compliance given fact recent breach information collection repository hesitating readily accept presented without testimonial certified physically verifiable document evidence claim legitimate deny nothing yet reserve right question unproven claim accept statement claim plaintiff call court reject claim untrue unverified incomplete compliant otherwise invalid thereby dischargeable requirement dismissed full demand said court resolution today even full accord regulatory statute mentioned date received knowledge ever entering contractual relationship plaintiff forward civil complaint entity y allegedly issued defaulted line credit accusation similar despite repeated call accuser demonstrate requisite presented physically verifiable document proof adequately acquired permissible purpose exactly individual irrefutably identified acknowledgement relationship party mentioned form knowledge ever knowingly acknowledging even unknowingly owe proven compliantly reported debt much le claim unproven debt alleged written declaration checking validity claim also document proof certifiable testimony factual complete compliance standard law even mandatory metro format compliance obvious allegation filed accuser plaintiff clear subterfuge act willful disregard ethical practice done ignorance requisite ethical regulatory compliant behavior accusation collection effort credit reporting claim vile nature derelict unjustly injurious unlawful doubt call dismissal plaintiff statement claim discharge misreported delinquency derogatory behavior accuser complaint undeniably unfairly lodged versus knowledge ever receiving proven document fact statement account account aspect item alleged debt delinquent action reiterate called accuser present document certifiably true correct complete adequately compliant documentation full validation claim right collect alleged claim right report alleged claim let true compliance regulatory requisite mandatory optional plaintiff claim mute legal standing full accordance law must dismissed knowledge ever entering open account plaintiff entity y allegedly issued defaulted line credit derogatory claim credit fact claim even submitted adequate compliant proof genesis relationship inability prove application permissible purpose said alleged application agreement contract describing relationship related alleged claim account debt otherwise derelict documentation claim inherently make invalid plaintiff whole statement claim summons complaint request court resolve adequately compliantly required immediate eradication complaint charge rectification injurious collection reporting practice compliance appropriate collection practice equally compliance appropriate complete reporting practice mandatory optional stand proven otherwise complaining plaintiff unjustly unethically likely illegally absolute deficiency requisite legal standing full accordance applicable law mentioned collection practice well reporting practice particularly inability unwillingness timely fully certify physically verifiable document proof full validity debt claim compliance reporting even mandatory metro format declare right preference stand claim plaintiff call authority integrity ensure truth claim correctness claim completeness claim ownership responsibility debt delinquency debt alleged noted claim perfect compliance collection action related claim compliance reporting action related claim    415\n",
      "filed dispute regard incorrect item credit report well day received investigation result                                                                                                                                                                                                                                                                                                                                                                                                                                                                                                                                                                                                                                                                                                                                                                                                                                                                                                                                                                                                                                                                                                                                                                                                                                                                                                                                                                                                                                                                                                                                                                                                                                                                                                                                                                                                                                                                                                                                                                                                                                                                                                                                                                                                                                                                                                                                                                                                                                                                                                                                                                                                                                                                                                                                                                                                                                                                                                                                                                                                                                                                                                                                                                                                                                                                                                                                                                                                                                                                                                                                                                                                                                                                                                                                                                                                                                                                                                                                                                                                                                                                                                                                                                                                                                                                                                                                                                                                                                                                                                                                                                                                                                                                                                                                                                                                                                                                                                                                                                                                                                                                                                                                                                                                                                                                                                                                                                                                                                                                                                                                                                                                                                                                            338\n",
      "victim identity theft due corona virus pandemic facing sitting still home saw recent news multiple data breach decided look credit report major credit bureau found someone used identity idea theft took place also knowledge suspect receive money good service result identity theft contacted credit bureau told file identity theft report appreciate effort getting matter resolved thank please let know need information block information credit report thank                                                                                                                                                                                                                                                                                                                                                                                                                                                                                                                                                                                                                                                                                                                                                                                                                                                                                                                                                                                                                                                                                                                                                                                                                                                                                                                                                                                                                                                                                                                                                                                                                                                                                                                                                                                                                                                                                                                                                                                                                                                                                                                                                                                                                                                                                                                                                                                                                                                                                                                                                                                                                                                                                                                                                                                                                                                                                                                                                                                                                                                                                                                                                                                                                                                                                                                                                                                                                                                                                                                                                                                                                                                                                                                                                                                                                                                                                                                                                                                                                                                                                                                                                                                                                                                                                                                                                                                                                                                                                                                                                                                                                                                                                                                                                                                                                                                                                                                                                                                                                                                                                                                                                                                                                                                                                              306\n",
      "victim identity theft                                                                                                                                                                                                                                                                                                                                                                                                                                                                                                                                                                                                                                                                                                                                                                                                                                                                                                                                                                                                                                                                                                                                                                                                                                                                                                                                                                                                                                                                                                                                                                                                                                                                                                                                                                                                                                                                                                                                                                                                                                                                                                                                                                                                                                                                                                                                                                                                                                                                                                                                                                                                                                                                                                                                                                                                                                                                                                                                                                                                                                                                                                                                                                                                                                                                                                                                                                                                                                                                                                                                                                                                                                                                                                                                                                                                                                                                                                                                                                                                                                                                                                                                                                                                                                                                                                                                                                                                                                                                                                                                                                                                                                                                                                                                                                                                                                                                                                                                                                                                                                                                                                                                                                                                                                                                                                                                                                                                                                                                                                                                                                                                                                                                                                                                               271\n",
      "                                                                                                                                                                                                                                                                                                                                                                                                                                                                                                                                                                                                                                                                                                                                                                                                                                                                                                                                                                                                                                                                                                                                                                                                                                                                                                                                                                                                                                                                                                                                                                                                                                                                                                                                                                                                                                                                                                                                                                                                                                                                                                                                                                                                                                                                                                                                                                                                                                                                                                                                                                                                                                                                                                                                                                                                                                                                                                                                                                                                                                                                                                                                                                                                                                                                                                                                                                                                                                                                                                                                                                                                                                                                                                                                                                                                                                                                                                                                                                                                                                                                                                                                                                                                                                                                                                                                                                                                                                                                                                                                                                                                                                                                                                                                                                                                                                                                                                                                                                                                                                                                                                                                                                                                                                                                                                                                                                                                                                                                                                                                                                                                                                                                                                                                                                   ... \n",
      "received numerous inquiry capital one authorize addition capital one recently reported day late payment information inaccurate day late payment made payment account even inaccurately assigned another company capital one sent statement blocked access account would talk account called called talked numerous rep finally manager finally able get correct mistake manager promised credit report would corrected faxed even sent certified letter regarding matter                                                                                                                                                                                                                                                                                                                                                                                                                                                                                                                                                                                                                                                                                                                                                                                                                                                                                                                                                                                                                                                                                                                                                                                                                                                                                                                                                                                                                                                                                                                                                                                                                                                                                                                                                                                                                                                                                                                                                                                                                                                                                                                                                                                                                                                                                                                                                                                                                                                                                                                                                                                                                                                                                                                                                                                                                                                                                                                                                                                                                                                                                                                                                                                                                                                                                                                                                                                                                                                                                                                                                                                                                                                                                                                                                                                                                                                                                                                                                                                                                                                                                                                                                                                                                                                                                                                                                                                                                                                                                                                                                                                                                                                                                                                                                                                                                                                                                                                                                                                                                                                                                                                                                                                                                                                                                              1\n",
      "received numerous call company asked proof debt knowledge company told would send information debt via email never happened contacted asked information referred website knowledge debt company informed victim identity theft case number date provided documentation                                                                                                                                                                                                                                                                                                                                                                                                                                                                                                                                                                                                                                                                                                                                                                                                                                                                                                                                                                                                                                                                                                                                                                                                                                                                                                                                                                                                                                                                                                                                                                                                                                                                                                                                                                                                                                                                                                                                                                                                                                                                                                                                                                                                                                                                                                                                                                                                                                                                                                                                                                                                                                                                                                                                                                                                                                                                                                                                                                                                                                                                                                                                                                                                                                                                                                                                                                                                                                                                                                                                                                                                                                                                                                                                                                                                                                                                                                                                                                                                                                                                                                                                                                                                                                                                                                                                                                                                                                                                                                                                                                                                                                                                                                                                                                                                                                                                                                                                                                                                                                                                                                                                                                                                                                                                                                                                                                                                                                                                                                1\n",
      "received numerous call collection agency different kind number calling need pay bill im military doesnt mean dont pay debt kept explaining collection agency dont owe debt disputed credit bureau came back verified called asking hard copy contract validate account unable provide contacted collection agency asked said didnt provide social address old address called credit bureau asking provide allegedly think verifiable told social security number matched address thats report matched told thata anyone put anything people credit report say verified thats enough need proof failed also made aware agency thats calling trying collect calling credit report gave another collection agency called make aware account im playing job life clearance laughed told good luck                                                                                                                                                                                                                                                                                                                                                                                                                                                                                                                                                                                                                                                                                                                                                                                                                                                                                                                                                                                                                                                                                                                                                                                                                                                                                                                                                                                                                                                                                                                                                                                                                                                                                                                                                                                                                                                                                                                                                                                                                                                                                                                                                                                                                                                                                                                                                                                                                                                                                                                                                                                                                                                                                                                                                                                                                                                                                                                                                                                                                                                                                                                                                                                                                                                                                                                                                                                                                                                                                                                                                                                                                                                                                                                                                                                                                                                                                                                                                                                                                                                                                                                                                                                                                                                                                                                                                                                                                                                                                                                                                                                                                                                                                                                                                                                                                                                                                                                                                                         1\n",
      "received numerous repeated call national credit adjuster attempting collect debt repeatedly asked proof verification debt refused told ca informed caller multiple time illegal would filing complaint victim identity theft case number informed caller also item credit report want removed failure provide information requested numerous occassions                                                                                                                                                                                                                                                                                                                                                                                                                                                                                                                                                                                                                                                                                                                                                                                                                                                                                                                                                                                                                                                                                                                                                                                                                                                                                                                                                                                                                                                                                                                                                                                                                                                                                                                                                                                                                                                                                                                                                                                                                                                                                                                                                                                                                                                                                                                                                                                                                                                                                                                                                                                                                                                                                                                                                                                                                                                                                                                                                                                                                                                                                                                                                                                                                                                                                                                                                                                                                                                                                                                                                                                                                                                                                                                                                                                                                                                                                                                                                                                                                                                                                                                                                                                                                                                                                                                                                                                                                                                                                                                                                                                                                                                                                                                                                                                                                                                                                                                                                                                                                                                                                                                                                                                                                                                                                                                                                                                                               1\n",
      "trying use app withdraw money next check pnc bank account stopped allowing access                                                                                                                                                                                                                                                                                                                                                                                                                                                                                                                                                                                                                                                                                                                                                                                                                                                                                                                                                                                                                                                                                                                                                                                                                                                                                                                                                                                                                                                                                                                                                                                                                                                                                                                                                                                                                                                                                                                                                                                                                                                                                                                                                                                                                                                                                                                                                                                                                                                                                                                                                                                                                                                                                                                                                                                                                                                                                                                                                                                                                                                                                                                                                                                                                                                                                                                                                                                                                                                                                                                                                                                                                                                                                                                                                                                                                                                                                                                                                                                                                                                                                                                                                                                                                                                                                                                                                                                                                                                                                                                                                                                                                                                                                                                                                                                                                                                                                                                                                                                                                                                                                                                                                                                                                                                                                                                                                                                                                                                                                                                                                                                                                                                                                     1\n",
      "Name: count, Length: 124472, dtype: int64\n"
     ]
    }
   ],
   "source": [
    "# Frequency of Each Value\n",
    "print(\"Value Counts:\\n\", data['narrative'].value_counts())"
   ]
  },
  {
   "cell_type": "markdown",
   "id": "43f9d9b6-ad6c-4f68-803e-a67f02f84847",
   "metadata": {},
   "source": [
    "### Missing Values"
   ]
  },
  {
   "cell_type": "code",
   "execution_count": 10,
   "id": "57c4885d-cbca-4941-8a7d-90b05d57eee9",
   "metadata": {},
   "outputs": [
    {
     "data": {
      "text/plain": [
       "Unnamed: 0     0\n",
       "product        0\n",
       "narrative     10\n",
       "dtype: int64"
      ]
     },
     "execution_count": 10,
     "metadata": {},
     "output_type": "execute_result"
    }
   ],
   "source": [
    "# Missing Values per Column\n",
    "data.isnull().sum()"
   ]
  },
  {
   "cell_type": "markdown",
   "id": "3d0f0d2b-2869-409c-9fef-dbd77603286e",
   "metadata": {},
   "source": [
    "### Duplicates"
   ]
  },
  {
   "cell_type": "code",
   "execution_count": 11,
   "id": "26c4a0e5-5468-4780-b670-aeb64408e6e6",
   "metadata": {},
   "outputs": [
    {
     "data": {
      "text/plain": [
       "37948"
      ]
     },
     "execution_count": 11,
     "metadata": {},
     "output_type": "execute_result"
    }
   ],
   "source": [
    "# Dulicates in narrative column\n",
    "data['narrative'].duplicated().sum()"
   ]
  },
  {
   "cell_type": "markdown",
   "id": "033964b1-3a2a-4723-b804-dea2837b806e",
   "metadata": {},
   "source": [
    "## Clean Data"
   ]
  },
  {
   "cell_type": "markdown",
   "id": "c9baa527-8ad1-439d-9100-7499bc93c341",
   "metadata": {},
   "source": [
    "### Drop Columns"
   ]
  },
  {
   "cell_type": "code",
   "execution_count": 12,
   "id": "9e298990-6ab6-4cb5-84e8-884ef7fa7977",
   "metadata": {},
   "outputs": [
    {
     "data": {
      "text/plain": [
       "['narrative']"
      ]
     },
     "execution_count": 12,
     "metadata": {},
     "output_type": "execute_result"
    }
   ],
   "source": [
    "# Drop unnecessary columns\n",
    "data_cleaned = data.drop(columns=['Unnamed: 0', 'product'])\n",
    "data_cleaned.columns.tolist()"
   ]
  },
  {
   "cell_type": "markdown",
   "id": "fb95530e-12dc-4723-80c7-67e5a09c0b9f",
   "metadata": {},
   "source": [
    "### Rename Column"
   ]
  },
  {
   "cell_type": "code",
   "execution_count": 13,
   "id": "b19eca9d-b7ef-417d-a100-429c6ff5d0af",
   "metadata": {},
   "outputs": [
    {
     "data": {
      "text/plain": [
       "['complaints_text']"
      ]
     },
     "execution_count": 13,
     "metadata": {},
     "output_type": "execute_result"
    }
   ],
   "source": [
    "# Rename the narrative column\n",
    "data_cleaned.rename(columns={'narrative': 'complaints_text'}, inplace=True)\n",
    "data_cleaned.columns.tolist()"
   ]
  },
  {
   "cell_type": "markdown",
   "id": "a49f886e-b692-49ae-92e8-29a54e33cbda",
   "metadata": {},
   "source": [
    "### Remove Duplicates"
   ]
  },
  {
   "cell_type": "code",
   "execution_count": 14,
   "id": "88ee5264-573e-41d1-83b5-2ccedd99659d",
   "metadata": {},
   "outputs": [
    {
     "data": {
      "text/plain": [
       "0"
      ]
     },
     "execution_count": 14,
     "metadata": {},
     "output_type": "execute_result"
    }
   ],
   "source": [
    "# Remove duplicates in the complaints_text column\n",
    "data_cleaned = data_cleaned.drop_duplicates(subset='complaints_text', keep='first')\n",
    "data_cleaned['complaints_text'].duplicated().sum()"
   ]
  },
  {
   "cell_type": "markdown",
   "id": "39b0985a-4043-41bf-ae8a-7411e65b6340",
   "metadata": {},
   "source": [
    "### Remove Missing or Irrelevant Values"
   ]
  },
  {
   "cell_type": "code",
   "execution_count": 15,
   "id": "9d4072f5-5a2d-4788-a7f7-eae8f2020b8f",
   "metadata": {},
   "outputs": [
    {
     "data": {
      "text/plain": [
       "complaints_text    2\n",
       "dtype: int64"
      ]
     },
     "execution_count": 15,
     "metadata": {},
     "output_type": "execute_result"
    }
   ],
   "source": [
    "# Replace placeholder strings with NaN\n",
    "data_cleaned['complaints_text'].replace('name', np.nan, inplace=True)\n",
    "data_cleaned.isnull().sum()"
   ]
  },
  {
   "cell_type": "code",
   "execution_count": 16,
   "id": "174f91bb-1c25-410c-a806-8afaaa5ee4ad",
   "metadata": {},
   "outputs": [
    {
     "data": {
      "text/plain": [
       "complaints_text    0\n",
       "dtype: int64"
      ]
     },
     "execution_count": 16,
     "metadata": {},
     "output_type": "execute_result"
    }
   ],
   "source": [
    "# Drop rows with missing values in 'narrative'\n",
    "data_cleaned.dropna(subset=['complaints_text'], inplace=True)\n",
    "data_cleaned.isnull().sum()"
   ]
  },
  {
   "cell_type": "markdown",
   "id": "ba73f257-2d9e-4ccb-ab73-24b686019684",
   "metadata": {},
   "source": [
    "### Save Cleaned Data"
   ]
  },
  {
   "cell_type": "raw",
   "id": "cc39cadd-ebd9-4895-8910-a26c6f497324",
   "metadata": {},
   "source": [
    "# Save the cleaned data for reproducibility\n",
    "data_cleaned.to_csv(\"/Users/achshahrm/Library/Mobile Documents/com~apple~CloudDocs/Documents/IU International/Sem 05/Project Data Analysis/project/data/cleaned_complaints.csv\", index=False)\n",
    "print(\"Data cleaning complete. Cleaned data saved as cleaned_complaints.csv\")"
   ]
  },
  {
   "cell_type": "markdown",
   "id": "468071e8-153b-4496-b8a7-6d18d090eefc",
   "metadata": {},
   "source": [
    "## Text Preprocessing"
   ]
  },
  {
   "cell_type": "code",
   "execution_count": 17,
   "id": "efbd5bcd-b688-47df-b098-7fe5db98997f",
   "metadata": {},
   "outputs": [
    {
     "name": "stderr",
     "output_type": "stream",
     "text": [
      "[nltk_data] Downloading package stopwords to\n",
      "[nltk_data]     /Users/achshahrm/nltk_data...\n",
      "[nltk_data]   Package stopwords is already up-to-date!\n",
      "[nltk_data] Downloading package punkt to /Users/achshahrm/nltk_data...\n",
      "[nltk_data]   Package punkt is already up-to-date!\n",
      "[nltk_data] Downloading package punkt_tab to\n",
      "[nltk_data]     /Users/achshahrm/nltk_data...\n",
      "[nltk_data]   Package punkt_tab is already up-to-date!\n"
     ]
    },
    {
     "data": {
      "text/plain": [
       "True"
      ]
     },
     "execution_count": 17,
     "metadata": {},
     "output_type": "execute_result"
    }
   ],
   "source": [
    "# Load SpaCy English model\n",
    "nlp = spacy.load(\"en_core_web_sm\")\n",
    "\n",
    "# Define stopwords\n",
    "nltk.download('stopwords')\n",
    "stop_words = set(stopwords.words('english'))\n",
    "\n",
    "# Download punkt Tokenizer\n",
    "nltk.download('punkt')\n",
    "nltk.download('punkt_tab')"
   ]
  },
  {
   "cell_type": "markdown",
   "id": "3023abf9-5e6d-4795-915b-ae8673c21844",
   "metadata": {},
   "source": [
    "### Preprocessing Function"
   ]
  },
  {
   "cell_type": "code",
   "execution_count": 18,
   "id": "9ae0ffe0-b192-44a3-a38a-ac21fef6cbbc",
   "metadata": {},
   "outputs": [],
   "source": [
    "# Define a preprocessing function\n",
    "def preprocess_text(text):\n",
    "    # Convert to lowercase\n",
    "    text = text.lower()\n",
    "    \n",
    "    # Remove special characters and numbers\n",
    "    text = re.sub(r'[^a-zA-Z\\s]', '', text)\n",
    "    \n",
    "    # Tokenization\n",
    "    tokens = word_tokenize(text)\n",
    "    \n",
    "    # Remove stopwords\n",
    "    tokens = [word for word in tokens if word not in stop_words]\n",
    "    \n",
    "    # Lemmatization\n",
    "    tokens = [nlp(word)[0].lemma_ for word in tokens]\n",
    "    \n",
    "    # Join tokens back into a single string\n",
    "    return ' '.join(tokens)"
   ]
  },
  {
   "cell_type": "markdown",
   "id": "7765f43e-b814-45a7-9779-ae6943439659",
   "metadata": {},
   "source": [
    "### Call Function"
   ]
  },
  {
   "cell_type": "code",
   "execution_count": 19,
   "id": "edb3780b-88e2-4b7f-98f2-0ae2d7b94f45",
   "metadata": {},
   "outputs": [],
   "source": [
    "# Create a new DataFrame for preprocessed data\n",
    "data_preprocessed = data_cleaned.head(10000)\n",
    "\n",
    "# Apply preprocessing to the complaints_text column using parallel processing\n",
    "data_preprocessed['complaints_text'] = data_preprocessed['complaints_text'].apply(preprocess_text)"
   ]
  },
  {
   "cell_type": "markdown",
   "id": "988b30e3-2eb0-4518-a782-dd8f1e73ca36",
   "metadata": {},
   "source": [
    "### Save Preprocessed Data"
   ]
  },
  {
   "cell_type": "code",
   "execution_count": 20,
   "id": "832fcb6a-b37e-4264-aaf3-91cddfad0870",
   "metadata": {},
   "outputs": [
    {
     "name": "stdout",
     "output_type": "stream",
     "text": [
      "Text preprocessing complete. Preprocessed data saved as preprocessed_complaints.csv\n"
     ]
    }
   ],
   "source": [
    "# Save the preprocessed data for reproducibility\n",
    "data_preprocessed.to_csv(\"/Users/achshahrm/Library/Mobile Documents/com~apple~CloudDocs/Documents/IU International/Sem 05/Project Data Analysis/project/data/preprocessed_complaints.csv\", index=False)\n",
    "print(\"Text preprocessing complete. Preprocessed data saved as preprocessed_complaints.csv\")"
   ]
  },
  {
   "cell_type": "code",
   "execution_count": null,
   "id": "bed20d86-4019-45af-9afd-d9607925c5bc",
   "metadata": {},
   "outputs": [],
   "source": []
  }
 ],
 "metadata": {
  "kernelspec": {
   "display_name": "Python(Topic_Modelling_venv)",
   "language": "python",
   "name": "topic_modelling_venv"
  },
  "language_info": {
   "codemirror_mode": {
    "name": "ipython",
    "version": 3
   },
   "file_extension": ".py",
   "mimetype": "text/x-python",
   "name": "python",
   "nbconvert_exporter": "python",
   "pygments_lexer": "ipython3",
   "version": "3.12.4"
  }
 },
 "nbformat": 4,
 "nbformat_minor": 5
}
